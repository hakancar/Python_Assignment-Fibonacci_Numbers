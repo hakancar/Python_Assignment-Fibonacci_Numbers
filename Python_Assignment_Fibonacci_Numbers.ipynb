{
  "nbformat": 4,
  "nbformat_minor": 0,
  "metadata": {
    "colab": {
      "name": "Python_Assignment-Fibonacci Numbers.ipynb",
      "provenance": [],
      "authorship_tag": "ABX9TyPJ3/Ntq66pEsR8MJgUaUrx",
      "include_colab_link": true
    },
    "kernelspec": {
      "name": "python3",
      "display_name": "Python 3"
    },
    "language_info": {
      "name": "python"
    }
  },
  "cells": [
    {
      "cell_type": "markdown",
      "metadata": {
        "id": "view-in-github",
        "colab_type": "text"
      },
      "source": [
        "<a href=\"https://colab.research.google.com/github/hakancar/Python_Assignment-Fibonacci_Numbers/blob/main/Python_Assignment_Fibonacci_Numbers.ipynb\" target=\"_parent\"><img src=\"https://colab.research.google.com/assets/colab-badge.svg\" alt=\"Open In Colab\"/></a>"
      ]
    },
    {
      "cell_type": "code",
      "metadata": {
        "colab": {
          "base_uri": "https://localhost:8080/"
        },
        "id": "as_aff_lPLSO",
        "outputId": "9eb8fa40-cbfe-443e-e9dc-c9bba63f649a"
      },
      "source": [
        "numbers = list(range(11))\n",
        "fibonacci=[]\n",
        "a = 0\n",
        "b = 1\n",
        "sum = 0\n",
        "count = 1\n",
        "while count <= 10:\n",
        "  count += 1\n",
        "  a = b\n",
        "  b = sum\n",
        "  sum = a + b\n",
        "  fibonacci.append(sum)\n",
        "print(\"fibonacci\",fibonacci)"
      ],
      "execution_count": 2,
      "outputs": [
        {
          "output_type": "stream",
          "text": [
            "fibonacci [1, 1, 2, 3, 5, 8, 13, 21, 34, 55]\n"
          ],
          "name": "stdout"
        }
      ]
    }
  ]
}